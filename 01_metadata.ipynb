{
 "cells": [
  {
   "cell_type": "markdown",
   "metadata": {},
   "source": [
    "# Lego Minifigures"
   ]
  },
  {
   "cell_type": "markdown",
   "metadata": {},
   "source": [
    "# Setup"
   ]
  },
  {
   "cell_type": "code",
   "execution_count": 1,
   "metadata": {},
   "outputs": [],
   "source": [
    "import pandas as pd"
   ]
  },
  {
   "cell_type": "markdown",
   "metadata": {},
   "source": [
    "# Read Meta Data"
   ]
  },
  {
   "cell_type": "code",
   "execution_count": 4,
   "metadata": {},
   "outputs": [],
   "source": [
    "# attached data tables\n",
    "index = pd.read_csv(\"Data/index.csv\")\n",
    "meta = pd.read_csv(\"Data/metadata.csv\")"
   ]
  },
  {
   "cell_type": "markdown",
   "metadata": {},
   "source": [
    "# Explore Meta Data"
   ]
  },
  {
   "cell_type": "code",
   "execution_count": 8,
   "metadata": {
    "scrolled": true
   },
   "outputs": [
    {
     "data": {
      "text/html": [
       "<div>\n",
       "<style scoped>\n",
       "    .dataframe tbody tr th:only-of-type {\n",
       "        vertical-align: middle;\n",
       "    }\n",
       "\n",
       "    .dataframe tbody tr th {\n",
       "        vertical-align: top;\n",
       "    }\n",
       "\n",
       "    .dataframe thead th {\n",
       "        text-align: right;\n",
       "    }\n",
       "</style>\n",
       "<table border=\"1\" class=\"dataframe\">\n",
       "  <thead>\n",
       "    <tr style=\"text-align: right;\">\n",
       "      <th></th>\n",
       "      <th>Unnamed: 0</th>\n",
       "      <th>path</th>\n",
       "      <th>class_id</th>\n",
       "      <th>train-valid</th>\n",
       "    </tr>\n",
       "  </thead>\n",
       "  <tbody>\n",
       "    <tr>\n",
       "      <th>0</th>\n",
       "      <td>0</td>\n",
       "      <td>marvel/0001/001.jpg</td>\n",
       "      <td>1</td>\n",
       "      <td>train</td>\n",
       "    </tr>\n",
       "    <tr>\n",
       "      <th>1</th>\n",
       "      <td>1</td>\n",
       "      <td>marvel/0001/002.jpg</td>\n",
       "      <td>1</td>\n",
       "      <td>valid</td>\n",
       "    </tr>\n",
       "    <tr>\n",
       "      <th>2</th>\n",
       "      <td>2</td>\n",
       "      <td>marvel/0001/003.jpg</td>\n",
       "      <td>1</td>\n",
       "      <td>train</td>\n",
       "    </tr>\n",
       "    <tr>\n",
       "      <th>3</th>\n",
       "      <td>3</td>\n",
       "      <td>marvel/0001/004.jpg</td>\n",
       "      <td>1</td>\n",
       "      <td>train</td>\n",
       "    </tr>\n",
       "    <tr>\n",
       "      <th>4</th>\n",
       "      <td>4</td>\n",
       "      <td>marvel/0001/005.jpg</td>\n",
       "      <td>1</td>\n",
       "      <td>train</td>\n",
       "    </tr>\n",
       "  </tbody>\n",
       "</table>\n",
       "</div>"
      ],
      "text/plain": [
       "   Unnamed: 0                 path  class_id train-valid\n",
       "0           0  marvel/0001/001.jpg         1       train\n",
       "1           1  marvel/0001/002.jpg         1       valid\n",
       "2           2  marvel/0001/003.jpg         1       train\n",
       "3           3  marvel/0001/004.jpg         1       train\n",
       "4           4  marvel/0001/005.jpg         1       train"
      ]
     },
     "execution_count": 8,
     "metadata": {},
     "output_type": "execute_result"
    }
   ],
   "source": [
    "index.head()"
   ]
  },
  {
   "cell_type": "code",
   "execution_count": 16,
   "metadata": {},
   "outputs": [
    {
     "data": {
      "text/html": [
       "<div>\n",
       "<style scoped>\n",
       "    .dataframe tbody tr th:only-of-type {\n",
       "        vertical-align: middle;\n",
       "    }\n",
       "\n",
       "    .dataframe tbody tr th {\n",
       "        vertical-align: top;\n",
       "    }\n",
       "\n",
       "    .dataframe thead th {\n",
       "        text-align: right;\n",
       "    }\n",
       "</style>\n",
       "<table border=\"1\" class=\"dataframe\">\n",
       "  <thead>\n",
       "    <tr style=\"text-align: right;\">\n",
       "      <th></th>\n",
       "      <th>Unnamed: 0</th>\n",
       "      <th>path</th>\n",
       "      <th>class_id</th>\n",
       "      <th>train-valid</th>\n",
       "    </tr>\n",
       "  </thead>\n",
       "  <tbody>\n",
       "    <tr>\n",
       "      <th>323</th>\n",
       "      <td>323</td>\n",
       "      <td>marvel/0015/008.jpg</td>\n",
       "      <td>29</td>\n",
       "      <td>valid</td>\n",
       "    </tr>\n",
       "    <tr>\n",
       "      <th>324</th>\n",
       "      <td>324</td>\n",
       "      <td>marvel/0015/009.jpg</td>\n",
       "      <td>29</td>\n",
       "      <td>valid</td>\n",
       "    </tr>\n",
       "    <tr>\n",
       "      <th>325</th>\n",
       "      <td>325</td>\n",
       "      <td>marvel/0015/010.jpg</td>\n",
       "      <td>29</td>\n",
       "      <td>valid</td>\n",
       "    </tr>\n",
       "    <tr>\n",
       "      <th>326</th>\n",
       "      <td>326</td>\n",
       "      <td>marvel/0015/011.jpg</td>\n",
       "      <td>29</td>\n",
       "      <td>valid</td>\n",
       "    </tr>\n",
       "    <tr>\n",
       "      <th>327</th>\n",
       "      <td>327</td>\n",
       "      <td>marvel/0015/012.jpg</td>\n",
       "      <td>29</td>\n",
       "      <td>valid</td>\n",
       "    </tr>\n",
       "  </tbody>\n",
       "</table>\n",
       "</div>"
      ],
      "text/plain": [
       "     Unnamed: 0                 path  class_id train-valid\n",
       "323         323  marvel/0015/008.jpg        29       valid\n",
       "324         324  marvel/0015/009.jpg        29       valid\n",
       "325         325  marvel/0015/010.jpg        29       valid\n",
       "326         326  marvel/0015/011.jpg        29       valid\n",
       "327         327  marvel/0015/012.jpg        29       valid"
      ]
     },
     "execution_count": 16,
     "metadata": {},
     "output_type": "execute_result"
    }
   ],
   "source": [
    "index.tail()"
   ]
  },
  {
   "cell_type": "code",
   "execution_count": 15,
   "metadata": {},
   "outputs": [
    {
     "data": {
      "text/html": [
       "<div>\n",
       "<style scoped>\n",
       "    .dataframe tbody tr th:only-of-type {\n",
       "        vertical-align: middle;\n",
       "    }\n",
       "\n",
       "    .dataframe tbody tr th {\n",
       "        vertical-align: top;\n",
       "    }\n",
       "\n",
       "    .dataframe thead th {\n",
       "        text-align: right;\n",
       "    }\n",
       "</style>\n",
       "<table border=\"1\" class=\"dataframe\">\n",
       "  <thead>\n",
       "    <tr style=\"text-align: right;\">\n",
       "      <th></th>\n",
       "      <th>Unnamed: 0</th>\n",
       "      <th>class_id</th>\n",
       "      <th>lego_ids</th>\n",
       "      <th>lego_names</th>\n",
       "      <th>minifigure_name</th>\n",
       "    </tr>\n",
       "  </thead>\n",
       "  <tbody>\n",
       "    <tr>\n",
       "      <th>0</th>\n",
       "      <td>0</td>\n",
       "      <td>1</td>\n",
       "      <td>[76115]</td>\n",
       "      <td>['Spider Mech vs. Venom']</td>\n",
       "      <td>SPIDER-MAN</td>\n",
       "    </tr>\n",
       "    <tr>\n",
       "      <th>1</th>\n",
       "      <td>1</td>\n",
       "      <td>2</td>\n",
       "      <td>[76115]</td>\n",
       "      <td>['Spider Mech vs. Venom']</td>\n",
       "      <td>VENOM</td>\n",
       "    </tr>\n",
       "    <tr>\n",
       "      <th>2</th>\n",
       "      <td>2</td>\n",
       "      <td>3</td>\n",
       "      <td>[76115]</td>\n",
       "      <td>['Spider Mech vs. Venom']</td>\n",
       "      <td>AUNT MAY</td>\n",
       "    </tr>\n",
       "    <tr>\n",
       "      <th>3</th>\n",
       "      <td>3</td>\n",
       "      <td>4</td>\n",
       "      <td>[76115]</td>\n",
       "      <td>['Spider Mech vs. Venom']</td>\n",
       "      <td>GHOST SPIDER</td>\n",
       "    </tr>\n",
       "    <tr>\n",
       "      <th>4</th>\n",
       "      <td>4</td>\n",
       "      <td>5</td>\n",
       "      <td>[75208]</td>\n",
       "      <td>[\"Yoda's Hut\"]</td>\n",
       "      <td>YODA</td>\n",
       "    </tr>\n",
       "  </tbody>\n",
       "</table>\n",
       "</div>"
      ],
      "text/plain": [
       "   Unnamed: 0  class_id lego_ids                 lego_names minifigure_name\n",
       "0           0         1  [76115]  ['Spider Mech vs. Venom']      SPIDER-MAN\n",
       "1           1         2  [76115]  ['Spider Mech vs. Venom']           VENOM\n",
       "2           2         3  [76115]  ['Spider Mech vs. Venom']        AUNT MAY\n",
       "3           3         4  [76115]  ['Spider Mech vs. Venom']    GHOST SPIDER\n",
       "4           4         5  [75208]             [\"Yoda's Hut\"]            YODA"
      ]
     },
     "execution_count": 15,
     "metadata": {},
     "output_type": "execute_result"
    }
   ],
   "source": [
    "meta.head()"
   ]
  },
  {
   "cell_type": "code",
   "execution_count": 14,
   "metadata": {
    "scrolled": true
   },
   "outputs": [
    {
     "data": {
      "text/html": [
       "<div>\n",
       "<style scoped>\n",
       "    .dataframe tbody tr th:only-of-type {\n",
       "        vertical-align: middle;\n",
       "    }\n",
       "\n",
       "    .dataframe tbody tr th {\n",
       "        vertical-align: top;\n",
       "    }\n",
       "\n",
       "    .dataframe thead th {\n",
       "        text-align: right;\n",
       "    }\n",
       "</style>\n",
       "<table border=\"1\" class=\"dataframe\">\n",
       "  <thead>\n",
       "    <tr style=\"text-align: right;\">\n",
       "      <th></th>\n",
       "      <th>Unnamed: 0</th>\n",
       "      <th>class_id</th>\n",
       "      <th>lego_ids</th>\n",
       "      <th>lego_names</th>\n",
       "      <th>minifigure_name</th>\n",
       "    </tr>\n",
       "  </thead>\n",
       "  <tbody>\n",
       "    <tr>\n",
       "      <th>24</th>\n",
       "      <td>24</td>\n",
       "      <td>25</td>\n",
       "      <td>[76123]</td>\n",
       "      <td>[\"Captain America: Outriders Attack\"]</td>\n",
       "      <td>OUTRIDER 2</td>\n",
       "    </tr>\n",
       "    <tr>\n",
       "      <th>25</th>\n",
       "      <td>25</td>\n",
       "      <td>26</td>\n",
       "      <td>[75926]</td>\n",
       "      <td>[\"Pteranodon Chase\"]</td>\n",
       "      <td>OWEN GRADY</td>\n",
       "    </tr>\n",
       "    <tr>\n",
       "      <th>26</th>\n",
       "      <td>26</td>\n",
       "      <td>27</td>\n",
       "      <td>[75926]</td>\n",
       "      <td>[\"Pteranodon Chase\"]</td>\n",
       "      <td>TRACKER TRAQUEUR RASTREADOR</td>\n",
       "    </tr>\n",
       "    <tr>\n",
       "      <th>27</th>\n",
       "      <td>27</td>\n",
       "      <td>28</td>\n",
       "      <td>[76125]</td>\n",
       "      <td>[\"Iron Man Hall of Armor\"]</td>\n",
       "      <td>IRON MAN MK 1</td>\n",
       "    </tr>\n",
       "    <tr>\n",
       "      <th>28</th>\n",
       "      <td>28</td>\n",
       "      <td>29</td>\n",
       "      <td>[76125]</td>\n",
       "      <td>[\"Iron Man Hall of Armor\"]</td>\n",
       "      <td>IRON MAN MK 5</td>\n",
       "    </tr>\n",
       "  </tbody>\n",
       "</table>\n",
       "</div>"
      ],
      "text/plain": [
       "    Unnamed: 0  class_id lego_ids                             lego_names  \\\n",
       "24          24        25  [76123]  [\"Captain America: Outriders Attack\"]   \n",
       "25          25        26  [75926]                   [\"Pteranodon Chase\"]   \n",
       "26          26        27  [75926]                   [\"Pteranodon Chase\"]   \n",
       "27          27        28  [76125]             [\"Iron Man Hall of Armor\"]   \n",
       "28          28        29  [76125]             [\"Iron Man Hall of Armor\"]   \n",
       "\n",
       "                minifigure_name  \n",
       "24                   OUTRIDER 2  \n",
       "25                   OWEN GRADY  \n",
       "26  TRACKER TRAQUEUR RASTREADOR  \n",
       "27                IRON MAN MK 1  \n",
       "28                IRON MAN MK 5  "
      ]
     },
     "execution_count": 14,
     "metadata": {},
     "output_type": "execute_result"
    }
   ],
   "source": [
    "meta.tail()"
   ]
  },
  {
   "cell_type": "code",
   "execution_count": 17,
   "metadata": {},
   "outputs": [
    {
     "name": "stdout",
     "output_type": "stream",
     "text": [
      "classes: [ 1  2  3  4  5  6  7  8  9 10 11 12 13 14 15 16 17 18 19 20 21 22 23 24\n",
      " 25 26 27 28 29]\n",
      "Nr. of classes: 29\n"
     ]
    }
   ],
   "source": [
    "# unique classes from index.csv\n",
    "print(\"classes: {}\".format(index[\"class_id\"].unique()))\n",
    "print(\"Nr. of classes: {}\".format(len(index[\"class_id\"].unique())))"
   ]
  },
  {
   "cell_type": "code",
   "execution_count": 23,
   "metadata": {},
   "outputs": [
    {
     "data": {
      "text/plain": [
       "0     [76115]\n",
       "1     [76115]\n",
       "2     [76115]\n",
       "3     [76115]\n",
       "4     [75208]\n",
       "5     [75208]\n",
       "6     [75208]\n",
       "7     [75199]\n",
       "8     [75199]\n",
       "9     [75264]\n",
       "10    [75254]\n",
       "11    [75254]\n",
       "12    [75254]\n",
       "13    [75254]\n",
       "14    [76128]\n",
       "15    [76128]\n",
       "16    [76128]\n",
       "17    [75950]\n",
       "18    [75950]\n",
       "19    [76162]\n",
       "20    [76162]\n",
       "21    [76162]\n",
       "22    [76123]\n",
       "23    [76123]\n",
       "24    [76123]\n",
       "25    [75926]\n",
       "26    [75926]\n",
       "27    [76125]\n",
       "28    [76125]\n",
       "Name: lego_ids, dtype: object"
      ]
     },
     "execution_count": 23,
     "metadata": {},
     "output_type": "execute_result"
    }
   ],
   "source": [
    "# are there classes that have more than 1 lego_id?\n",
    "meta[\"lego_ids\"]"
   ]
  },
  {
   "cell_type": "code",
   "execution_count": 26,
   "metadata": {},
   "outputs": [
    {
     "name": "stdout",
     "output_type": "stream",
     "text": [
      "Lego IDs: ['[76115]' '[75208]' '[75199]' '[75264]' '[75254]' '[76128]' '[75950]'\n",
      " '[76162]' '[76123]' '[75926]' '[76125]']\n",
      "Nr. of Lego Ids: 11\n"
     ]
    }
   ],
   "source": [
    "print(\"Lego IDs: {}\".format(meta[\"lego_ids\"].unique()))\n",
    "print(\"Nr. of Lego Ids: {}\".format(len(meta[\"lego_ids\"].unique())))"
   ]
  },
  {
   "cell_type": "code",
   "execution_count": 27,
   "metadata": {
    "scrolled": true
   },
   "outputs": [
    {
     "name": "stdout",
     "output_type": "stream",
     "text": [
      "Minifigure Names: ['SPIDER-MAN' 'VENOM' 'AUNT MAY' 'GHOST SPIDER' 'YODA' 'LUKE SKYWALKER'\n",
      " 'R2-D2' 'MACE WINDU' 'GENERAL GRIEVOUS' 'KYLO REN' 'THE MANDALORIAN'\n",
      " 'CARA DUNE' 'KLATOOINIAN RAIDER 1' 'KLATOOINIAN RAIDER 2' 'MYSTERIO'\n",
      " 'FIREFIGHTER' 'HARRY POTTER' 'RON WEASLEY' 'BLACK WIDOW' 'YELENA BELOVA'\n",
      " 'TASKMASTER' 'CAPTAIN AMERICA' 'OUTRIDER 1' 'OUTRIDER 2' 'OWEN GRADY'\n",
      " 'TRACKER TRAQUEUR RASTREADOR' 'IRON MAN MK 1' 'IRON MAN MK 5']\n",
      "Nr. of Names: 28\n"
     ]
    }
   ],
   "source": [
    "print(\"Minifigure Names: {}\".format(meta[\"minifigure_name\"].unique()))\n",
    "print(\"Nr. of Names: {}\".format(len(meta[\"minifigure_name\"].unique())))"
   ]
  },
  {
   "cell_type": "code",
   "execution_count": 28,
   "metadata": {},
   "outputs": [
    {
     "data": {
      "text/plain": [
       "0                      SPIDER-MAN\n",
       "1                           VENOM\n",
       "2                        AUNT MAY\n",
       "3                    GHOST SPIDER\n",
       "4                            YODA\n",
       "5                  LUKE SKYWALKER\n",
       "6                           R2-D2\n",
       "7                      MACE WINDU\n",
       "8                GENERAL GRIEVOUS\n",
       "9                        KYLO REN\n",
       "10                THE MANDALORIAN\n",
       "11                      CARA DUNE\n",
       "12           KLATOOINIAN RAIDER 1\n",
       "13           KLATOOINIAN RAIDER 2\n",
       "14                       MYSTERIO\n",
       "15                    FIREFIGHTER\n",
       "16                     SPIDER-MAN\n",
       "17                   HARRY POTTER\n",
       "18                    RON WEASLEY\n",
       "19                    BLACK WIDOW\n",
       "20                  YELENA BELOVA\n",
       "21                     TASKMASTER\n",
       "22                CAPTAIN AMERICA\n",
       "23                     OUTRIDER 1\n",
       "24                     OUTRIDER 2\n",
       "25                     OWEN GRADY\n",
       "26    TRACKER TRAQUEUR RASTREADOR\n",
       "27                  IRON MAN MK 1\n",
       "28                  IRON MAN MK 5\n",
       "Name: minifigure_name, dtype: object"
      ]
     },
     "execution_count": 28,
     "metadata": {},
     "output_type": "execute_result"
    }
   ],
   "source": [
    "meta[\"minifigure_name\"]"
   ]
  },
  {
   "cell_type": "markdown",
   "metadata": {},
   "source": [
    "**Notes**\n",
    "\n",
    "* index.csv gives the class of each image and whether it is part of the training or validation set\n",
    "* metadata.csv gives some more background informations about each class\n",
    "* We have 29 classes\n",
    "* Not all classes have different Lego Ids\n",
    "* Two classes have the same Minifigure Name (\"Spider Man\")"
   ]
  },
  {
   "cell_type": "code",
   "execution_count": null,
   "metadata": {},
   "outputs": [],
   "source": []
  }
 ],
 "metadata": {
  "kernelspec": {
   "display_name": "Python 3",
   "language": "python",
   "name": "python3"
  },
  "language_info": {
   "codemirror_mode": {
    "name": "ipython",
    "version": 3
   },
   "file_extension": ".py",
   "mimetype": "text/x-python",
   "name": "python",
   "nbconvert_exporter": "python",
   "pygments_lexer": "ipython3",
   "version": "3.8.3"
  }
 },
 "nbformat": 4,
 "nbformat_minor": 4
}
